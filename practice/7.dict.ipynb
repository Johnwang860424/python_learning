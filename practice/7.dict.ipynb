{
 "cells": [
  {
   "cell_type": "code",
   "execution_count": 27,
   "id": "99feed47",
   "metadata": {},
   "outputs": [
    {
     "name": "stdout",
     "output_type": "stream",
     "text": [
      "Andy\n",
      "30\n",
      "0912-345-678\n",
      "{'name': 'Eric', 'age': 31, 'phone': '0912-345-678', 'is_admin': False, 'email': 'andy@gmail.com'}\n"
     ]
    }
   ],
   "source": [
    "user1 = {\n",
    "    # key(字串): value(任意型別)\n",
    "    \"name\": \"Andy\",\n",
    "    \"age\": 30,\n",
    "    \"phone\": \"0912-345-678\",\n",
    "    \"is_admin\": False\n",
    "}\n",
    "# 字典[\"key\"] => value\n",
    "print(user1[\"name\"])\n",
    "print(user1[\"age\"])\n",
    "print(user1[\"phone\"])\n",
    "# 更新字典value\n",
    "user1[\"name\"] = \"Eric\"\n",
    "user1[\"age\"] += 1\n",
    "user1[\"email\"] = \"andy@gmail.com\"\n",
    "print(user1)\n"
   ]
  },
  {
   "cell_type": "code",
   "execution_count": 7,
   "id": "14d16f2a",
   "metadata": {},
   "outputs": [
    {
     "name": "stdout",
     "output_type": "stream",
     "text": [
      "台北市\n",
      "大安區\n",
      "{'city': '台北市', 'district': '大安區', 'street': '復興南路一段1號', 'zip': '106'}\n",
      "台北市\n",
      "{'age': 24, 'address': {'city': '台北市', 'district': '大安區', 'street': '復興南路一段1號', 'zip': '106'}}\n"
     ]
    }
   ],
   "source": [
    "user2 = {\n",
    "    \"name\": \"Kate\",\n",
    "    \"age\": 24,\n",
    "    \"address\": {\n",
    "        \"city\": \"台北市\",\n",
    "        \"district\": \"大安區\",\n",
    "        \"street\": \"復興南路一段1號\",\n",
    "        \"zip\": \"106\"\n",
    "    } \n",
    "}\n",
    "\n",
    "print(user2[\"address\"][\"city\"])\n",
    "print(user2[\"address\"][\"district\"])\n",
    "\n",
    "address = user2[\"address\"]\n",
    "print(address)\n",
    "print(address[\"city\"])\n",
    "\n",
    "# 移除字典 name\n",
    "user2.pop(\"name\")\n",
    "\n",
    "print(user2)"
   ]
  },
  {
   "cell_type": "code",
   "execution_count": null,
   "id": "db4f15a3",
   "metadata": {},
   "outputs": [],
   "source": []
  }
 ],
 "metadata": {
  "interpreter": {
   "hash": "19d1d53a962d236aa061289c2ac16dc8e6d9648c89fe79f459ae9a3493bc67b4"
  },
  "kernelspec": {
   "display_name": "Python 3.9.7 ('base')",
   "language": "python",
   "name": "python3"
  },
  "language_info": {
   "codemirror_mode": {
    "name": "ipython",
    "version": 3
   },
   "file_extension": ".py",
   "mimetype": "text/x-python",
   "name": "python",
   "nbconvert_exporter": "python",
   "pygments_lexer": "ipython3",
   "version": "3.9.7"
  }
 },
 "nbformat": 4,
 "nbformat_minor": 5
}
