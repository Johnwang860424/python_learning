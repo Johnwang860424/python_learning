{
 "cells": [
  {
   "cell_type": "code",
   "execution_count": 1,
   "id": "7c1482c1",
   "metadata": {},
   "outputs": [
    {
     "name": "stdout",
     "output_type": "stream",
     "text": [
      "Hi，我叫Andy是一個住在台北市的工程師。\n",
      "Hi，我叫Andy是一個住在台北市的工程師。\n",
      "Hi，我叫Andy是一個住在台北市的工程師\n"
     ]
    }
   ],
   "source": [
    "# 字串與多變數的組合方式\n",
    "name = \"Andy\"\n",
    "title = \"工程師\"\n",
    "city = \"台北市\"\n",
    "intro = \"Hi，我叫\" + name + \"是一個住在\" + city + \"的\" + title + \"。\"\n",
    "print(intro)\n",
    "\n",
    "intro_2 = f\"Hi，我叫{name}是一個住在{city}的{title}。\"\n",
    "print(intro_2)\n",
    "\n",
    "intro_3 = \"Hi，我叫{}是一個住在{}的{}\".format(name, city, title)\n",
    "print(intro_3)"
   ]
  },
  {
   "cell_type": "code",
   "execution_count": 5,
   "id": "fc156f58",
   "metadata": {},
   "outputs": [
    {
     "name": "stdout",
     "output_type": "stream",
     "text": [
      "請填寫您的名字:1\n",
      "1，您目前是甚麼職業呢2\n",
      "1，您目前居住在哪個城市呢3\n",
      "Hi，我叫1是一個住在3的2。\n"
     ]
    }
   ],
   "source": [
    "# input函數\n",
    "name = input(\"請填寫您的名字:\")\n",
    "title = input(f\"{name}，您目前是甚麼職業呢\")\n",
    "city = input(f\"{name}，您目前居住在哪個城市呢\")\n",
    "intro = f\"Hi，我叫{name}是一個住在{city}的{title}。\"\n",
    "print(intro)\n"
   ]
  },
  {
   "cell_type": "code",
   "execution_count": 6,
   "id": "1b3caaca",
   "metadata": {},
   "outputs": [
    {
     "name": "stdout",
     "output_type": "stream",
     "text": [
      "<class 'str'>\n",
      "<class 'str'>\n",
      "<class 'int'>\n",
      "<class 'float'>\n",
      "<class 'bool'> <class 'bool'>\n"
     ]
    }
   ],
   "source": [
    "# 取得資料的資料型別\n",
    "a = \"Hello World\"\n",
    "print(type(a))\n",
    "print(type(\"Hi\"))\n",
    "print(type(20))\n",
    "print(type(20.5))\n",
    "print(type(True), type(False))"
   ]
  },
  {
   "cell_type": "code",
   "execution_count": null,
   "id": "8147e61b",
   "metadata": {},
   "outputs": [],
   "source": []
  }
 ],
 "metadata": {
  "interpreter": {
   "hash": "19d1d53a962d236aa061289c2ac16dc8e6d9648c89fe79f459ae9a3493bc67b4"
  },
  "kernelspec": {
   "display_name": "Python 3.9.7 ('base')",
   "language": "python",
   "name": "python3"
  },
  "language_info": {
   "codemirror_mode": {
    "name": "ipython",
    "version": 3
   },
   "file_extension": ".py",
   "mimetype": "text/x-python",
   "name": "python",
   "nbconvert_exporter": "python",
   "pygments_lexer": "ipython3",
   "version": "3.9.7"
  }
 },
 "nbformat": 4,
 "nbformat_minor": 5
}
