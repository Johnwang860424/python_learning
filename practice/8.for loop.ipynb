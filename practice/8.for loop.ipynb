{
 "cells": [
  {
   "cell_type": "code",
   "execution_count": null,
   "id": "726e5ca9",
   "metadata": {},
   "outputs": [],
   "source": [
    "character_list = [\"Walter White\", \"Skyler White\", \"Jesse Pinkman\", \"Hank Schrader\", \"Saul Goodman\"]\n",
    "\n",
    "# 迭代子\n",
    "# for 迭代子 in 一批資料:\n",
    "for character in character_list:\n",
    "    print(character)\n",
    "\n",
    "# 預設n是1\n",
    "n = 1\n",
    "for character in character_list:\n",
    "    print(f\"第{n}位角色是{character}\")\n",
    "    n += 1\n",
    "\n",
    "print(f\"角色清單共有{len(character_list)}個人\")"
   ]
  },
  {
   "cell_type": "code",
   "execution_count": 33,
   "id": "e24dc0a1",
   "metadata": {},
   "outputs": [
    {
     "name": "stdout",
     "output_type": "stream",
     "text": [
      "nums的總和是150\n"
     ]
    }
   ],
   "source": [
    "nums = [10, 20, 30, 40, 50]\n",
    "# 預設x是0\n",
    "x = 0\n",
    "\n",
    "for n in nums:\n",
    "    x += n\n",
    "\n",
    "print(f\"nums的總和是{x}\")"
   ]
  },
  {
   "cell_type": "code",
   "execution_count": 34,
   "id": "e00ec2a2",
   "metadata": {},
   "outputs": [
    {
     "name": "stdout",
     "output_type": "stream",
     "text": [
      "購物車內共有4個品項,總金額是870元\n"
     ]
    }
   ],
   "source": [
    "cart = [\n",
    "    {\n",
    "        \"name\": \"產品A\",\n",
    "        \"price\": 30,\n",
    "        \"quantity\": 2\n",
    "    },\n",
    "    {\n",
    "        \"name\": \"產品B\",\n",
    "        \"price\": 40,\n",
    "        \"quantity\": 4\n",
    "    },\n",
    "    {\n",
    "        \"name\": \"產品C\",\n",
    "        \"price\": 50,\n",
    "        \"quantity\": 3\n",
    "    },\n",
    "    {\n",
    "        \"name\": \"產品D\",\n",
    "        \"price\": 100,\n",
    "        \"quantity\": 5\n",
    "    }\n",
    "]\n",
    "\n",
    "cart_value = 0\n",
    "\n",
    "for item in cart:\n",
    "    # 一個商品總金額 = 單價 * 數量\n",
    "    item_value = item[\"price\"] * item[\"quantity\"]\n",
    "    cart_value += item_value\n",
    "\n",
    "print(f\"購物車內共有{len(cart)}個品項,總金額是{cart_value}元\")"
   ]
  },
  {
   "cell_type": "code",
   "execution_count": 35,
   "id": "e7938ad7",
   "metadata": {},
   "outputs": [
    {
     "name": "stdout",
     "output_type": "stream",
     "text": [
      "產品名稱:產品A 價格:30\n",
      "產品名稱:產品B 價格:40\n",
      "產品名稱:產品C 價格:50\n"
     ]
    }
   ],
   "source": [
    "item_map = {\n",
    "    \"產品A\": 30,\n",
    "    \"產品B\": 40,\n",
    "    \"產品C\": 50\n",
    "}\n",
    "\n",
    "for name in item_map:\n",
    "    # print(name)\n",
    "    # print(item_map[name])\n",
    "    price = item_map[name]\n",
    "    print(f\"產品名稱:{name} 價格:{price}\")\n"
   ]
  },
  {
   "cell_type": "code",
   "execution_count": 36,
   "id": "2ee51814",
   "metadata": {},
   "outputs": [
    {
     "name": "stdout",
     "output_type": "stream",
     "text": [
      "H\n",
      "e\n",
      "l\n",
      "l\n",
      "o\n",
      " \n",
      "W\n",
      "o\n",
      "r\n",
      "l\n",
      "d\n"
     ]
    }
   ],
   "source": [
    "for a in \"Hello World\":\n",
    "    print(a)"
   ]
  },
  {
   "cell_type": "code",
   "execution_count": 37,
   "id": "bb1a5606",
   "metadata": {},
   "outputs": [
    {
     "name": "stdout",
     "output_type": "stream",
     "text": [
      "[0, 1, 2, 3, 4, 5, 6, 7, 8, 9]\n"
     ]
    }
   ],
   "source": [
    "# range(起始值, 結尾值(不包含在產生的數列內))\n",
    "nums = range(10)\n",
    "# 轉換成list型別\n",
    "nums = list(nums)\n",
    "\n",
    "print(nums)"
   ]
  },
  {
   "cell_type": "code",
   "execution_count": 38,
   "id": "d68a8062",
   "metadata": {},
   "outputs": [
    {
     "name": "stdout",
     "output_type": "stream",
     "text": [
      "請輸入開始值:1\n",
      "請輸入結尾值:5\n",
      "1加到5的總和是15\n"
     ]
    }
   ],
   "source": [
    "# 數列加總\n",
    "start = int(input(\"請輸入開始值:\"))\n",
    "end = int(input(\"請輸入結尾值:\"))\n",
    "summation = 0\n",
    "for n in range(start, end+1):\n",
    "    # print(n)\n",
    "    summation += n\n",
    "\n",
    "print(f\"{start}加到{end}的總和是{summation}\")"
   ]
  },
  {
   "cell_type": "code",
   "execution_count": 39,
   "id": "4e14f900",
   "metadata": {},
   "outputs": [
    {
     "name": "stdout",
     "output_type": "stream",
     "text": [
      "1 x 1 = 1  \n",
      "\n",
      "2 x 1 = 2  2 x 2 = 4  \n",
      "\n",
      "3 x 1 = 3  3 x 2 = 6  3 x 3 = 9  \n",
      "\n",
      "4 x 1 = 4  4 x 2 = 8  4 x 3 = 12  4 x 4 = 16  \n",
      "\n",
      "5 x 1 = 5  5 x 2 = 10  5 x 3 = 15  5 x 4 = 20  5 x 5 = 25  \n",
      "\n",
      "6 x 1 = 6  6 x 2 = 12  6 x 3 = 18  6 x 4 = 24  6 x 5 = 30  6 x 6 = 36  \n",
      "\n",
      "7 x 1 = 7  7 x 2 = 14  7 x 3 = 21  7 x 4 = 28  7 x 5 = 35  7 x 6 = 42  7 x 7 = 49  \n",
      "\n",
      "8 x 1 = 8  8 x 2 = 16  8 x 3 = 24  8 x 4 = 32  8 x 5 = 40  8 x 6 = 48  8 x 7 = 56  8 x 8 = 64  \n",
      "\n",
      "9 x 1 = 9  9 x 2 = 18  9 x 3 = 27  9 x 4 = 36  9 x 5 = 45  9 x 6 = 54  9 x 7 = 63  9 x 8 = 72  9 x 9 = 81  "
     ]
    }
   ],
   "source": [
    "# 九九乘法表\n",
    "nums = range(1, 9+1)\n",
    "\n",
    "for x in nums:\n",
    "    for y in nums:\n",
    "        if x < y:\n",
    "            print(\"\\n\")\n",
    "            break\n",
    "        else:\n",
    "            print(f\"{x} x {y} = {x * y}\", end=\"  \")"
   ]
  },
  {
   "cell_type": "code",
   "execution_count": null,
   "id": "07c86328",
   "metadata": {},
   "outputs": [],
   "source": []
  }
 ],
 "metadata": {
  "kernelspec": {
   "display_name": "Python 3 (ipykernel)",
   "language": "python",
   "name": "python3"
  },
  "language_info": {
   "codemirror_mode": {
    "name": "ipython",
    "version": 3
   },
   "file_extension": ".py",
   "mimetype": "text/x-python",
   "name": "python",
   "nbconvert_exporter": "python",
   "pygments_lexer": "ipython3",
   "version": "3.9.7"
  }
 },
 "nbformat": 4,
 "nbformat_minor": 5
}
