{
 "cells": [
  {
   "cell_type": "code",
   "execution_count": 1,
   "id": "598f8e2b",
   "metadata": {},
   "outputs": [
    {
     "name": "stdout",
     "output_type": "stream",
     "text": [
      "身高: 173.0 cm 體重: 60.0 kg BMI:20.0 正常\n"
     ]
    }
   ],
   "source": [
    "# BMI計算機\n",
    "# 取得使用者的身高(cm:float)跟體重(kg:float)\n",
    "cm = float(input(\"請輸入您的身高:\"))\n",
    "kg = float(input(\"請輸入您的體重:\"))\n",
    "\n",
    "m = cm /100\n",
    "# bmi = kg / m**2\n",
    "bmi = kg / m**2\n",
    "bmi = round(bmi, 1)\n",
    "\n",
    "# 肥胖,過重,正常,過輕\n",
    "level = \"\"\n",
    "if bmi >= 30:\n",
    "    level = \"肥胖\"\n",
    "elif bmi >= 25:\n",
    "    level = \"過重\"\n",
    "elif bmi >= 18.5:\n",
    "    level = \"正常\"\n",
    "else:\n",
    "    # else 上述條件都不符合時\n",
    "    level = \"過輕\"\n",
    "\n",
    "# 回傳使用者一份報告\n",
    "report = f\"身高: {cm} cm 體重: {kg} kg BMI:{bmi} {level}\"\n",
    "print(report)"
   ]
  }
 ],
 "metadata": {
  "interpreter": {
   "hash": "19d1d53a962d236aa061289c2ac16dc8e6d9648c89fe79f459ae9a3493bc67b4"
  },
  "kernelspec": {
   "display_name": "Python 3.9.7 ('base')",
   "language": "python",
   "name": "python3"
  },
  "language_info": {
   "codemirror_mode": {
    "name": "ipython",
    "version": 3
   },
   "file_extension": ".py",
   "mimetype": "text/x-python",
   "name": "python",
   "nbconvert_exporter": "python",
   "pygments_lexer": "ipython3",
   "version": "3.9.7"
  }
 },
 "nbformat": 4,
 "nbformat_minor": 5
}
