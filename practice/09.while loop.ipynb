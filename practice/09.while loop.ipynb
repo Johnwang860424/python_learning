{
 "cells": [
  {
   "cell_type": "code",
   "execution_count": 50,
   "id": "f2d213b1",
   "metadata": {
    "scrolled": true
   },
   "outputs": [
    {
     "name": "stdout",
     "output_type": "stream",
     "text": [
      "1\n",
      "2\n",
      "3\n",
      "4\n",
      "5\n",
      "6\n",
      "7\n",
      "8\n",
      "9\n",
      "10\n"
     ]
    }
   ],
   "source": [
    "# 所有的 for 迴圈都可以用while迴圈改寫；反之則不一定\n",
    "# for 迴圈就像田徑、游泳比賽；while迴圈就像桌球、網球比賽\n",
    "\n",
    "n = 1\n",
    "while n < 11:\n",
    "    print(n)\n",
    "    n += 1"
   ]
  },
  {
   "cell_type": "code",
   "execution_count": 41,
   "id": "369ee44a",
   "metadata": {},
   "outputs": [
    {
     "name": "stdout",
     "output_type": "stream",
     "text": [
      "40\n"
     ]
    }
   ],
   "source": [
    "# 引用random模組 (法一)\n",
    "import random\n",
    "\n",
    "nums = [10, 20, 30, 40, 50]\n",
    "\n",
    "# 可從串列中隨機挑選一筆資料\n",
    "n = random.choice(nums)\n",
    "\n",
    "print(n)"
   ]
  },
  {
   "cell_type": "code",
   "execution_count": 43,
   "id": "052a263f",
   "metadata": {},
   "outputs": [
    {
     "name": "stdout",
     "output_type": "stream",
     "text": [
      "50\n"
     ]
    }
   ],
   "source": [
    "# 從random模組引用choice函數 (法二)\n",
    "from random import choice\n",
    "\n",
    "nums = [10, 20, 30, 40, 50]\n",
    "\n",
    "n = choice(nums)\n",
    "\n",
    "print(n)"
   ]
  },
  {
   "cell_type": "code",
   "execution_count": 44,
   "id": "b971272a",
   "metadata": {},
   "outputs": [
    {
     "name": "stdout",
     "output_type": "stream",
     "text": [
      "['正面', '正面', '反面', '反面', '正面']\n",
      "總共丟了5次才出現三次正面\n"
     ]
    }
   ],
   "source": [
    "# 隨機投擲硬幣的遊戲\n",
    "# 不斷隨機投擲硬幣直到第三個正面出現後才停止\n",
    "coin = [\"正面\", \"反面\"]\n",
    "# 紀錄每次投擲結果\n",
    "result = []\n",
    "# 當result 裡的\"正面\" 少於3個, 迴圈就繼續\n",
    "while result.count(\"正面\") < 3:\n",
    "    # 從coin裡隨機挑選一個結果\n",
    "    c = choice(coin)\n",
    "    # 把結果加到(紀錄)result裡\n",
    "    result.append(c)\n",
    "\n",
    "print(result)\n",
    "print(f\"總共丟了{len(result)}次才出現三次正面\")"
   ]
  },
  {
   "cell_type": "code",
   "execution_count": 45,
   "id": "f2a17ab6",
   "metadata": {},
   "outputs": [
    {
     "name": "stdout",
     "output_type": "stream",
     "text": [
      "1035\n",
      "45\n",
      "[1, 2, 3, 4, 5, 6, 7, 8, 9, 10, 11, 12, 13, 14, 15, 16, 17, 18, 19, 20, 21, 22, 23, 24, 25, 26, 27, 28, 29, 30, 31, 32, 33, 34, 35, 36, 37, 38, 39, 40, 41, 42, 43, 44, 45]\n"
     ]
    }
   ],
   "source": [
    "# s = 1+2+3+4+...+n\n",
    "# 直到總和s大於1000程式才停止\n",
    "s = 0\n",
    "n = 1\n",
    "\n",
    "result = []\n",
    "# 當 s <= 1000,迴圈繼續\n",
    "while s <= 1000:\n",
    "    result.append(n)\n",
    "    s += n\n",
    "    n += 1\n",
    "\n",
    "print(s)\n",
    "print(result[-1])\n",
    "print(result)"
   ]
  },
  {
   "cell_type": "code",
   "execution_count": 46,
   "id": "8af2b4c4",
   "metadata": {},
   "outputs": [
    {
     "name": "stdout",
     "output_type": "stream",
     "text": [
      "[0, 1, 1, 2, 3, 5, 8, 13, 21, 34]\n"
     ]
    }
   ],
   "source": [
    "# 產生出10個Fibonacci sequence\n",
    "fibonacci = [0, 1]\n",
    "# 當數列內的資料量少於10,繼續的產生下一個數字並存到數列內\n",
    "while len(fibonacci) < 10:\n",
    "    # 算出下一個數字\n",
    "    n = fibonacci[-2] + fibonacci[-1]\n",
    "    fibonacci.append(n)\n",
    "\n",
    "print(fibonacci)"
   ]
  },
  {
   "cell_type": "code",
   "execution_count": 47,
   "id": "f60c1647",
   "metadata": {},
   "outputs": [
    {
     "name": "stdout",
     "output_type": "stream",
     "text": [
      "[8, 9, 9, 0]\n"
     ]
    }
   ],
   "source": [
    "# 產生四個可重複的隨機數\n",
    "# 參考數列\n",
    "nums = list(range(10))\n",
    "result = []\n",
    "# 當數列裡的數字少於4個,迴圈繼續\n",
    "while len(result) < 4:\n",
    "    n = (choice(nums))\n",
    "    result.append(n)\n",
    "\n",
    "print(result)"
   ]
  },
  {
   "cell_type": "code",
   "execution_count": 48,
   "id": "ef4e8536",
   "metadata": {},
   "outputs": [
    {
     "name": "stdout",
     "output_type": "stream",
     "text": [
      "[1, 2, 3, 6, 7, 8]\n",
      "[4, 0, 5, 9]\n"
     ]
    }
   ],
   "source": [
    "# 產生四個不重複的隨機數 (method1)\n",
    "nums = list(range(10))\n",
    "result = []\n",
    "while len(result) < 4:\n",
    "    n = choice(nums)\n",
    "    result.append(n)\n",
    "    # 從nums裡將n移除\n",
    "    nums.remove(n)\n",
    "\n",
    "print(nums)\n",
    "print(result)"
   ]
  },
  {
   "cell_type": "code",
   "execution_count": 49,
   "id": "e8ad879a",
   "metadata": {},
   "outputs": [
    {
     "name": "stdout",
     "output_type": "stream",
     "text": [
      "[0, 1, 2, 3, 4, 5, 6, 7, 8, 9]\n",
      "[5, 2, 4, 8]\n"
     ]
    }
   ],
   "source": [
    "# 產生四個不重複的隨機數 (method2)\n",
    "nums = list(range(10)) \n",
    "result = []\n",
    "while len(result) < 4:\n",
    "    n = choice(nums)\n",
    "    if n not in result:\n",
    "        result.append(n)\n",
    "\n",
    "print(nums)\n",
    "print(result)"
   ]
  }
 ],
 "metadata": {
  "kernelspec": {
   "display_name": "Python 3 (ipykernel)",
   "language": "python",
   "name": "python3"
  },
  "language_info": {
   "codemirror_mode": {
    "name": "ipython",
    "version": 3
   },
   "file_extension": ".py",
   "mimetype": "text/x-python",
   "name": "python",
   "nbconvert_exporter": "python",
   "pygments_lexer": "ipython3",
   "version": "3.9.7"
  }
 },
 "nbformat": 4,
 "nbformat_minor": 5
}
