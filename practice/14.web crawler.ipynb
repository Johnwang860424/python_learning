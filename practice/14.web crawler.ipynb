{
 "cells": [
  {
   "cell_type": "code",
   "execution_count": 5,
   "metadata": {},
   "outputs": [
    {
     "name": "stdout",
     "output_type": "stream",
     "text": [
      "幣別清單 ['美金', '(USD)', '港幣', '(HKD)', '英鎊', '(GBP)', '澳幣', '(AUD)', '加拿大幣', '(CAD)', '新加坡幣', '(SGD)', '瑞士法郎', '(CHF)', '日圓', '(JPY)', '南非幣', '(ZAR)', '瑞典幣', '(SEK)', '紐元', '(NZD)', '泰幣', '(THB)', '菲國比索', '(PHP)', '印尼幣', '(IDR)', '歐元', '(EUR)', '韓元', '(KRW)', '越南盾', '(VND)', '馬來幣', '(MYR)', '人民幣', '(CNY)']\n"
     ]
    }
   ],
   "source": [
    "# 安裝指定模組\n",
    "# !pip install 模組名稱\n",
    "\n",
    "# 從 pyquery 模組 引用 PyQuery 類別\n",
    "from pyquery import PyQuery\n",
    "# 目標網址\n",
    "url = \"https://rate.bot.com.tw/xrt\"\n",
    "# 爬取目標網站裡面的HTML內容\n",
    "html = PyQuery(url)\n",
    "\n",
    "# 用來顯示幣別的標籤範本\n",
    "# <div class=\"hidden-phone print_show\" style=\"text-indent:30px;\">美金 (USD)</div>\n",
    "# div 是區塊 class 是.\n",
    "# 篩選出標籤是div 且帶有class = \"div.hidden-phone.print_show\" 的元素\n",
    "currency_list = html(\"div.hidden-phone.print_show\").text().split()\n",
    "print(\"幣別清單\", currency_list)"
   ]
  },
  {
   "cell_type": "code",
   "execution_count": 7,
   "metadata": {},
   "outputs": [
    {
     "name": "stdout",
     "output_type": "stream",
     "text": [
      "幣別清單 ['美金', '(USD)', '港幣', '(HKD)', '英鎊', '(GBP)', '澳幣', '(AUD)', '加拿大幣', '(CAD)', '新加坡幣', '(SGD)', '瑞士法郎', '(CHF)', '日圓', '(JPY)', '南非幣', '(ZAR)', '瑞典幣', '(SEK)', '紐元', '(NZD)', '泰幣', '(THB)', '菲國比索', '(PHP)', '印尼幣', '(IDR)', '歐元', '(EUR)', '韓元', '(KRW)', '越南盾', '(VND)', '馬來幣', '(MYR)', '人民幣', '(CNY)']\n",
      "===================\n",
      "買價清單 ['29.185', '3.614', '35.72', '20.69', '22.76', '20.86', '29.37', '0.2118', '-', '2.6', '18.53', '0.7238', '0.4839', '0.00168', '30.56', '0.02154', '0.00103', '5.712', '4.317']\n",
      "===================\n",
      "賣價清單 ['29.855', '3.818', '37.84', '21.47', '23.67', '21.77', '30.57', '0.2246', '-', '3.12', '19.38', '0.9138', '0.6169', '0.00238', '31.9', '0.02544', '0.00144', '7.192', '4.479']\n"
     ]
    }
   ],
   "source": [
    "# 用來顯示買入價格的範本\n",
    "# <td data-table=\"本行現金買入\" class=\"rate-content-cash text-right print_hide\">29.13</td>\n",
    "# td是表格\n",
    "bid_list = html(\"td[data-table=本行現金買入].rate-content-cash\").text().split()\n",
    "# print(\"買價清單\", bid_list)\n",
    "\n",
    "# 用來顯示賣出價格的範本\n",
    "# <td data-table=\"本行現金賣出\" class=\"rate-content-cash text-right print_hide\">29.8</td>\n",
    "ask_list = html(\"td[data-table=本行現金賣出].rate-content-cash\").text().split()\n",
    "\n",
    "print(\"幣別清單\", currency_list)\n",
    "print(\"===================\")\n",
    "print(\"買價清單\", bid_list)\n",
    "print(\"===================\")\n",
    "print(\"賣價清單\", ask_list)"
   ]
  },
  {
   "cell_type": "code",
   "execution_count": 8,
   "metadata": {},
   "outputs": [
    {
     "name": "stdout",
     "output_type": "stream",
     "text": [
      "匯率查詢表 {'美金': {'bid': '29.185', 'ask': '29.855'}, '港幣': {'bid': '3.614', 'ask': '3.818'}, '英鎊': {'bid': '35.72', 'ask': '37.84'}, '澳幣': {'bid': '20.69', 'ask': '21.47'}, '加拿大幣': {'bid': '22.76', 'ask': '23.67'}, '新加坡幣': {'bid': '20.86', 'ask': '21.77'}, '瑞士法郎': {'bid': '29.37', 'ask': '30.57'}, '日圓': {'bid': '0.2118', 'ask': '0.2246'}, '南非幣': {'bid': '-', 'ask': '-'}, '瑞典幣': {'bid': '2.6', 'ask': '3.12'}, '紐元': {'bid': '18.53', 'ask': '19.38'}, '泰幣': {'bid': '0.7238', 'ask': '0.9138'}, '菲國比索': {'bid': '0.4839', 'ask': '0.6169'}, '印尼幣': {'bid': '0.00168', 'ask': '0.00238'}, '歐元': {'bid': '30.56', 'ask': '31.9'}, '韓元': {'bid': '0.02154', 'ask': '0.02544'}, '越南盾': {'bid': '0.00103', 'ask': '0.00144'}, '馬來幣': {'bid': '5.712', 'ask': '7.192'}, '人民幣': {'bid': '4.317', 'ask': '4.479'}}\n"
     ]
    }
   ],
   "source": [
    "# 匯率查詢表\n",
    "# {\n",
    "#     \"美金\": {\"bid\": \"29.18\", \"ask\": \"29.85\"},\n",
    "#     \"港幣\": {\"bid\": \"3.612\", \"ask\":\t\"3.816\"},\n",
    "#     ...\n",
    "# }\n",
    "table = {}\n",
    "\n",
    "# 取得買賣價格的索引值\n",
    "price_idx = 0\n",
    "for i, name in enumerate(currency_list):\n",
    "    if i % 2 == 0:\n",
    "        table[name] = {\n",
    "            \"bid\": bid_list[price_idx],\n",
    "            \"ask\": ask_list[price_idx]\n",
    "        }\n",
    "        price_idx += 1\n",
    "        \n",
    "print(\"匯率查詢表\", table)"
   ]
  },
  {
   "cell_type": "code",
   "execution_count": 24,
   "metadata": {},
   "outputs": [
    {
     "name": "stdout",
     "output_type": "stream",
     "text": [
      "美金 買價:29.185 賣價:29.855\n",
      "y不在匯率查詢表內\n",
      "英鎊 買價:35.72 賣價:37.84\n"
     ]
    }
   ],
   "source": [
    "while True:\n",
    "    try:\n",
    "        name = input(\"請輸入欲查詢的幣別\")\n",
    "        data = table[name]\n",
    "        # 取得data內的買賣價\n",
    "        bid = data[\"bid\"]\n",
    "        ask = data[\"ask\"]\n",
    "        report = f\"{name} 買價:{bid} 賣價:{ask}\"\n",
    "        print(report)\n",
    "        repeat = input(\"是否要繼續查詢 Y\\\\N\").upper()\n",
    "        if repeat == \"N\":\n",
    "            break\n",
    "    except KeyError:\n",
    "        print(f\"{name}不在匯率查詢表內\")"
   ]
  },
  {
   "cell_type": "code",
   "execution_count": null,
   "metadata": {},
   "outputs": [],
   "source": []
  }
 ],
 "metadata": {
  "interpreter": {
   "hash": "19d1d53a962d236aa061289c2ac16dc8e6d9648c89fe79f459ae9a3493bc67b4"
  },
  "kernelspec": {
   "display_name": "Python 3.9.7 ('base')",
   "language": "python",
   "name": "python3"
  },
  "language_info": {
   "codemirror_mode": {
    "name": "ipython",
    "version": 3
   },
   "file_extension": ".py",
   "mimetype": "text/x-python",
   "name": "python",
   "nbconvert_exporter": "python",
   "pygments_lexer": "ipython3",
   "version": "3.9.7"
  },
  "orig_nbformat": 4
 },
 "nbformat": 4,
 "nbformat_minor": 2
}
