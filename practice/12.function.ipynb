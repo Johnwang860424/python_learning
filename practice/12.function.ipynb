{
 "cells": [
  {
   "cell_type": "code",
   "execution_count": null,
   "id": "c19b49bd",
   "metadata": {},
   "outputs": [],
   "source": [
    "# 設計一個可以計算矩形面積的函數 rect()\n",
    "# 函數預設需要提供矩形的寬度(width)跟高度(height)作為輸入值\n",
    "# 輸出的資料是矩形的面積\n",
    "def rect(length, width):\n",
    "    area = length * width\n",
    "    # 將area作為此函數的輸出並結束函數\n",
    "    # 任何寫在return後的流程都不具意義\n",
    "    return area\n",
    "\n",
    "# [使用]rect函數\n",
    "x = rect(40, 30)\n",
    "print(\"x:\", x)"
   ]
  },
  {
   "cell_type": "code",
   "execution_count": 1,
   "id": "a0899d8d",
   "metadata": {},
   "outputs": [
    {
     "name": "stdout",
     "output_type": "stream",
     "text": [
      "40000 -100000\n"
     ]
    }
   ],
   "source": [
    "# 設計一個可以計算個股損益的函數\n",
    "# calc_profit(股數shares, 成本價cost, 現價current_price)\n",
    "# 損益值 = ( 現價 - 成本價 ) * 股數\n",
    "def calc_profit(shares, cost, current_price):\n",
    "    return (current_price - cost) * shares\n",
    "\n",
    "# 案例A\n",
    "# 小明在過去使用成本價100, 買了A公司2000股\n",
    "# 現在A公司股價漲至120\n",
    "# 損益值 = (120 - 100) * 2000\n",
    "# 40000\n",
    "a = calc_profit(2000, 100, 120)\n",
    "\n",
    "# 案例B\n",
    "# 小明在過去使用成本價100, 買了B公司2000股\n",
    "# 現在B公司股價跌至50\n",
    "# 損益值 = (50 - 100) * 2000\n",
    "# -100000\n",
    "b = calc_profit(2000, 100, 50)\n",
    "print(a, b)"
   ]
  },
  {
   "cell_type": "code",
   "execution_count": 2,
   "id": "0da30e52",
   "metadata": {},
   "outputs": [
    {
     "name": "stdout",
     "output_type": "stream",
     "text": [
      "2.54\n",
      "25.4\n"
     ]
    }
   ],
   "source": [
    "# 設計一個可把英吋單位轉換為公分的函數 inch_converter\n",
    "# x = inch_converter(1)\n",
    "# print(x) # 2.54\n",
    "def inch_converter(inch, unit = \"cm\"):\n",
    "    # 1英吋等於2.54公分\n",
    "    cm = inch * 2.54\n",
    "    mm = cm * 10\n",
    "    if unit == \"cm\":\n",
    "        return cm\n",
    "    elif unit == \"mm\":\n",
    "        return mm\n",
    "x = inch_converter(1)\n",
    "print(x)\n",
    "y = inch_converter(1, \"mm\")\n",
    "print(y)"
   ]
  },
  {
   "cell_type": "code",
   "execution_count": 3,
   "id": "8a19a4e8",
   "metadata": {},
   "outputs": [
    {
     "name": "stdout",
     "output_type": "stream",
     "text": [
      "True\n"
     ]
    }
   ],
   "source": [
    "# 設計一個可以判斷輸入的正整數是否為質數的函數 (法一)\n",
    "# is_prime(6) => False\n",
    "# is_prime(7) => True\n",
    "# is_prime(8) => False\n",
    "# is_prime(11) => True\n",
    "# 任意挑一個數字 不是質數的機率較高\n",
    "# 質數檢查法n => [2,3,4,5,6...n-1] => 如果數列內的數字[全部]都無法n整除 => n 就為質數\n",
    "def is_prime(n):\n",
    "    # 預設n是質數\n",
    "    ans = True\n",
    "    for x in range(2, n):\n",
    "        # 如果n可以被x整除\n",
    "        if n % x == 0:\n",
    "            # n就非質數\n",
    "            ans = False\n",
    "            break\n",
    "    return ans\n",
    "print(is_prime(2003))"
   ]
  },
  {
   "cell_type": "code",
   "execution_count": 72,
   "id": "b33defec",
   "metadata": {},
   "outputs": [
    {
     "name": "stdout",
     "output_type": "stream",
     "text": [
      "False\n"
     ]
    }
   ],
   "source": [
    "# 設計一個可以判斷輸入的正整數是否為質數的函數 (法二)\n",
    "def is_prime2(n):\n",
    "    for x in range(2, n):\n",
    "        if n % x == 0:\n",
    "            return False\n",
    "    return True\n",
    "x = is_prime2(6)\n",
    "print(x)\n"
   ]
  },
  {
   "cell_type": "code",
   "execution_count": 73,
   "id": "e190bcb3",
   "metadata": {},
   "outputs": [
    {
     "name": "stdout",
     "output_type": "stream",
     "text": [
      "1200\n",
      "78.5\n"
     ]
    }
   ],
   "source": [
    "# lambda 匿名函數 一行就可以處理完的函數\n",
    "# 不需要return\n",
    "rect = lambda width, height: width * height\n",
    "x = rect(30, 40)\n",
    "print(x)\n",
    "\n",
    "circle = lambda r: r * r * 3.14\n",
    "y = circle(5)\n",
    "print(y)"
   ]
  },
  {
   "cell_type": "code",
   "execution_count": 75,
   "id": "ba4b0baf",
   "metadata": {},
   "outputs": [
    {
     "name": "stdout",
     "output_type": "stream",
     "text": [
      "[1, 4, 9, 16, 25]\n"
     ]
    }
   ],
   "source": [
    "# map函數：把串列裡的資料統一處裡\n",
    "# map(函數程序, 原始資料)\n",
    "nums = [1, 2, 3, 4, 5]\n",
    "x = map(lambda n: n ** 2, nums)\n",
    "print(list(x))"
   ]
  },
  {
   "cell_type": "code",
   "execution_count": 76,
   "id": "0fdfc71a",
   "metadata": {},
   "outputs": [
    {
     "name": "stdout",
     "output_type": "stream",
     "text": [
      "[1, 4, 9, 16, 25]\n"
     ]
    }
   ],
   "source": [
    "# map邏輯之重現\n",
    "def copy_map(method, nums):\n",
    "    ans = []\n",
    "    for n in nums:\n",
    "        ans.append(method(n))\n",
    "    return ans\n",
    "x = copy_map(lambda n: n ** 2, [1, 2, 3, 4, 5])\n",
    "print(x)"
   ]
  },
  {
   "cell_type": "code",
   "execution_count": 77,
   "id": "3e858da6",
   "metadata": {},
   "outputs": [
    {
     "name": "stdout",
     "output_type": "stream",
     "text": [
      "[2, 4, 6]\n"
     ]
    }
   ],
   "source": [
    "# filter函數：從串列裡過濾指定資料\n",
    "# filter(函數程序, 原始資料)\n",
    "x = filter(lambda n: n % 2 == 0, [1, 2, 3, 4, 5, 6])\n",
    "x = list(x)\n",
    "print(x)"
   ]
  },
  {
   "cell_type": "code",
   "execution_count": 78,
   "id": "4a8060bd",
   "metadata": {},
   "outputs": [
    {
     "name": "stdout",
     "output_type": "stream",
     "text": [
      "[2, 4, 6]\n"
     ]
    }
   ],
   "source": [
    "#  filter邏輯之重現\n",
    "def copy_filter(method, nums):\n",
    "    ans = []\n",
    "    for n in nums:\n",
    "        if method(n):\n",
    "            ans.append(n)\n",
    "    return ans\n",
    "x = copy_filter(lambda n: n % 2 == 0, [1, 2, 3, 4, 5, 6])\n",
    "print(x)"
   ]
  }
 ],
 "metadata": {
  "interpreter": {
   "hash": "19d1d53a962d236aa061289c2ac16dc8e6d9648c89fe79f459ae9a3493bc67b4"
  },
  "kernelspec": {
   "display_name": "Python 3.9.7 ('base')",
   "language": "python",
   "name": "python3"
  },
  "language_info": {
   "codemirror_mode": {
    "name": "ipython",
    "version": 3
   },
   "file_extension": ".py",
   "mimetype": "text/x-python",
   "name": "python",
   "nbconvert_exporter": "python",
   "pygments_lexer": "ipython3",
   "version": "3.9.7"
  }
 },
 "nbformat": 4,
 "nbformat_minor": 5
}
