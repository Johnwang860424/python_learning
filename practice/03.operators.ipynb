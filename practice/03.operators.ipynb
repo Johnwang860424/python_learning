{
 "cells": [
  {
   "cell_type": "code",
   "execution_count": 1,
   "id": "229c12b3",
   "metadata": {},
   "outputs": [
    {
     "name": "stdout",
     "output_type": "stream",
     "text": [
      "40\n",
      "20\n",
      "300\n",
      "3.0\n",
      "3\n",
      "0\n",
      "100\n"
     ]
    }
   ],
   "source": [
    "a = 30\n",
    "b = 10\n",
    "\n",
    "print(a + b)\n",
    "print(a - b)\n",
    "print(a * b)\n",
    "print(a / b)\n",
    "# 取得a除以b的商\n",
    "print(a//b)\n",
    "# 取得a除以b的餘數\n",
    "print(a%b)\n",
    "# 次方\n",
    "print(b**2)\n"
   ]
  },
  {
   "cell_type": "code",
   "execution_count": 2,
   "id": "d317d295",
   "metadata": {},
   "outputs": [
    {
     "name": "stdout",
     "output_type": "stream",
     "text": [
      "今年我是5歲，明年我是6\n"
     ]
    }
   ],
   "source": [
    "# int(\"20\") => 20\n",
    "# float(\"15.7\") => 15.7\n",
    "# str(20) => 20\n",
    "\n",
    "# 透過input所取得的值一定是str\n",
    "age = int(input(\"請數入您的年齡\"))\n",
    "text = f\"今年我是{age}歲，明年我是{age+1}\"\n",
    "print(text)"
   ]
  },
  {
   "cell_type": "code",
   "execution_count": 3,
   "id": "3b60c91b",
   "metadata": {},
   "outputs": [
    {
     "name": "stdout",
     "output_type": "stream",
     "text": [
      "135\n"
     ]
    }
   ],
   "source": [
    "# +=, -=, *=, /=, %= 賦值運算子\n",
    "card = 50\n",
    "# 加值100\n",
    "# card = card + 100\n",
    "card += 100\n",
    "# 消費15\n",
    "# card = card - 15\n",
    "card -= 15\n",
    "print(card)"
   ]
  }
 ],
 "metadata": {
  "interpreter": {
   "hash": "19d1d53a962d236aa061289c2ac16dc8e6d9648c89fe79f459ae9a3493bc67b4"
  },
  "kernelspec": {
   "display_name": "Python 3.9.7 ('base')",
   "language": "python",
   "name": "python3"
  },
  "language_info": {
   "codemirror_mode": {
    "name": "ipython",
    "version": 3
   },
   "file_extension": ".py",
   "mimetype": "text/x-python",
   "name": "python",
   "nbconvert_exporter": "python",
   "pygments_lexer": "ipython3",
   "version": "3.9.7"
  }
 },
 "nbformat": 4,
 "nbformat_minor": 5
}
