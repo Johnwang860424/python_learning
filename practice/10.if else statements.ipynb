{
 "cells": [
  {
   "cell_type": "code",
   "execution_count": 1,
   "id": "e271eaa8",
   "metadata": {},
   "outputs": [
    {
     "name": "stdout",
     "output_type": "stream",
     "text": [
      "n:101大於100\n"
     ]
    }
   ],
   "source": [
    "n = 101\n",
    "if n > 100:\n",
    "    print(f\"n:{n}大於100\")\n",
    "elif n < 100:\n",
    "    print(f\"n:{n}小於100\")\n",
    "else:\n",
    "    # 上述條件都不符合(都是False)\n",
    "    print(f\"n:{n}等於100\")"
   ]
  },
  {
   "cell_type": "code",
   "execution_count": 52,
   "id": "bdb32588",
   "metadata": {},
   "outputs": [
    {
     "name": "stdout",
     "output_type": "stream",
     "text": [
      "0\n"
     ]
    }
   ],
   "source": [
    "n = 4\n",
    "# 計算 n / 2 的餘數\n",
    "print(n % 2)"
   ]
  },
  {
   "cell_type": "code",
   "execution_count": 53,
   "id": "adac1801",
   "metadata": {},
   "outputs": [
    {
     "name": "stdout",
     "output_type": "stream",
     "text": [
      "[2, 4, 6, 8, 10, 12, 14, 16, 18, 20, 22, 24, 26, 28, 30, 32, 34, 36, 38, 40, 42, 44, 46, 48, 50, 52, 54, 56, 58, 60, 62, 64, 66, 68, 70, 72, 74, 76, 78, 80, 82, 84, 86, 88, 90, 92, 94, 96, 98, 100]\n"
     ]
    }
   ],
   "source": [
    "ans = []\n",
    "for n in range(1,101):\n",
    "    if n % 2 == 0:\n",
    "        ans.append(n)\n",
    "print(ans)"
   ]
  },
  {
   "cell_type": "code",
   "execution_count": 55,
   "id": "56220771",
   "metadata": {},
   "outputs": [
    {
     "name": "stdout",
     "output_type": "stream",
     "text": [
      "最小值是-20 \n",
      "最大值是100\n"
     ]
    }
   ],
   "source": [
    "# 試著在不用max()、min()與sort()的情況下\n",
    "# 寫出一個能找出串列中最大與最小數值的方法\n",
    "nums = [1, 3, 4, 5, 100, -20, 20]\n",
    "# 預設最小數字是第一個數字\n",
    "min_n = nums[0]\n",
    "# 預設最大數字是第一個數字\n",
    "max_n = nums[0]\n",
    "for i in nums:\n",
    "    if min_n > i:\n",
    "        min_n = i\n",
    "    elif max_n < i:\n",
    "        max_n = i\n",
    "print(f\"最小值是{min_n}\", f\"\\n最大值是{max_n}\")"
   ]
  },
  {
   "cell_type": "code",
   "execution_count": 56,
   "id": "cbe2ebd5",
   "metadata": {},
   "outputs": [
    {
     "name": "stdout",
     "output_type": "stream",
     "text": [
      "當沙發馬鈴薯\n"
     ]
    }
   ],
   "source": [
    "# 隨機取出 weather_options 中的一個元素\n",
    "# 取到晴天或多雲印\"跑步\"，毛毛雨印\"去健身房\"，否則印\"當沙發馬鈴薯\"\n",
    "\n",
    "# 引入random模組的choice函式\n",
    "from random import choice\n",
    "weather_options = [\"晴天\", \"多雲\", \"毛毛雨\", \"狂風\", \"暴雨\", \"下雪\", \"打雷閃電\"]\n",
    "# 隨機挑選一次天氣\n",
    "weather = choice(weather_options)\n",
    "if weather in [\"晴天\", \"多雲\"]: #if weather == \"晴天\" or \"多雲\" 是判斷多雲是否在weather裡 如果有的話 就會一直是此結果\n",
    "    print(\"跑步\")\n",
    "elif weather == \"毛毛雨\":\n",
    "    print(\"去健身房\")\n",
    "else:\n",
    "    print(\"當沙發馬鈴薯\")"
   ]
  },
  {
   "cell_type": "code",
   "execution_count": 57,
   "id": "8bd79631",
   "metadata": {},
   "outputs": [
    {
     "name": "stdout",
     "output_type": "stream",
     "text": [
      "1\n",
      "2\n",
      "3\n",
      "4\n",
      "5\n",
      "6\n",
      "7\n",
      "8\n",
      "9\n"
     ]
    }
   ],
   "source": [
    "# break 停止迴圈\n",
    "nums = range(1, 101)\n",
    "for n in nums:\n",
    "    if n == 10:\n",
    "        # 停止迴圈\n",
    "        break\n",
    "    # 迴圈僅運行10次\n",
    "    print(n)"
   ]
  },
  {
   "cell_type": "code",
   "execution_count": 58,
   "id": "3ccf8453",
   "metadata": {},
   "outputs": [
    {
     "name": "stdout",
     "output_type": "stream",
     "text": [
      "[1, 3, 5, 7, 9]\n"
     ]
    }
   ],
   "source": [
    "# continue 略過這一圈，並讓迴圈繼續\n",
    "ans = []\n",
    "for n in range(1, 11):\n",
    "    if n % 2 == 0:\n",
    "        continue\n",
    "    ans.append(n)\n",
    "print(ans)"
   ]
  },
  {
   "cell_type": "code",
   "execution_count": 59,
   "id": "5bec5054",
   "metadata": {},
   "outputs": [
    {
     "name": "stdout",
     "output_type": "stream",
     "text": [
      "[1, 2, 3, 4, 5, 6, 8, 10, 12, 15, 20, 24, 30, 40, 60, 120]\n"
     ]
    }
   ],
   "source": [
    "# 將120的因數儲存在ans中並印出 (法一)\n",
    "x = 120\n",
    "ans = []\n",
    "for i in range(1, 121):\n",
    "    # 如果 x 可被 n 整除\n",
    "    if x % i == 0:\n",
    "        # 把 n 加到 ans 內\n",
    "        ans.append(i)\n",
    "print(ans)"
   ]
  },
  {
   "cell_type": "code",
   "execution_count": 60,
   "id": "1c3ac51a",
   "metadata": {},
   "outputs": [
    {
     "name": "stdout",
     "output_type": "stream",
     "text": [
      "[1, 2, 3, 4, 5, 6, 8, 10, 12, 15, 20, 24, 30, 40, 60, 120]\n"
     ]
    }
   ],
   "source": [
    "# 將120的因數儲存在ans中並印出 (法二)\n",
    "x = 120\n",
    "ans = []\n",
    "for i in range(1, 121):\n",
    "    # 如果 x 無法被 n 整除\n",
    "    if x % i != 0:\n",
    "        # 略過這一圈\n",
    "        continue\n",
    "    # 把 n 加到 ans 內\n",
    "    ans.append(i)\n",
    "print(ans)"
   ]
  },
  {
   "cell_type": "code",
   "execution_count": 61,
   "id": "523df30f",
   "metadata": {},
   "outputs": [
    {
     "name": "stdout",
     "output_type": "stream",
     "text": [
      "請輸入\"q\"\"quit\"\"離開\"停止程序:q\n",
      "程序已經停止\n"
     ]
    }
   ],
   "source": [
    "# 設計 while 無窮迴圈的中止開關 (法一)\n",
    "while True:\n",
    "    a = input(\"請輸入\\\"q\\\"\\\"quit\\\"\\\"離開\\\"停止程序:\").lower()\n",
    "    if a in [\"q\", \"quit\", \"離開\"]:\n",
    "        break\n",
    "print(\"程序已經停止\")"
   ]
  },
  {
   "cell_type": "code",
   "execution_count": 62,
   "id": "9cff5212",
   "metadata": {},
   "outputs": [
    {
     "name": "stdout",
     "output_type": "stream",
     "text": [
      "請輸入\"q\"\"quit\"\"離開\"停止程序:q\n",
      "程序已經停止\n"
     ]
    }
   ],
   "source": [
    "# 設計 while 無窮迴圈的中止開關 (法二)\n",
    "process = True\n",
    "while process:\n",
    "    a = input(\"請輸入\\\"q\\\"\\\"quit\\\"\\\"離開\\\"停止程序:\").lower()\n",
    "    if a in [\"q\", \"quit\", \"離開\"]:\n",
    "        process = False\n",
    "print(\"程序已經停止\")"
   ]
  },
  {
   "cell_type": "code",
   "execution_count": null,
   "id": "4337909a",
   "metadata": {},
   "outputs": [],
   "source": [
    "# 終極密碼(猜數字)\n",
    "# 由程式自動從1~100挑選一隨機數\n",
    "# 使用者可透過輸入猜數字\n",
    "# 使用者才錯則提示(大一點、小一點)\n",
    "# 遊戲將猜到使用者猜對為止\n",
    "ans = choice(range(1, 101))\n",
    "while True:\n",
    "    n = int(input(\"請輸入一個正整數\"))\n",
    "    if n > ans:\n",
    "        print(\"猜小一點\")\n",
    "    elif n < ans:\n",
    "        print(\"猜大一點\")\n",
    "    else:\n",
    "        print(\"答對了\")\n",
    "        break\n",
    "print(\"程序結束\")"
   ]
  }
 ],
 "metadata": {
  "interpreter": {
   "hash": "19d1d53a962d236aa061289c2ac16dc8e6d9648c89fe79f459ae9a3493bc67b4"
  },
  "kernelspec": {
   "display_name": "Python 3.9.7 ('base')",
   "language": "python",
   "name": "python3"
  },
  "language_info": {
   "codemirror_mode": {
    "name": "ipython",
    "version": 3
   },
   "file_extension": ".py",
   "mimetype": "text/x-python",
   "name": "python",
   "nbconvert_exporter": "python",
   "pygments_lexer": "ipython3",
   "version": "3.9.7"
  }
 },
 "nbformat": 4,
 "nbformat_minor": 5
}
