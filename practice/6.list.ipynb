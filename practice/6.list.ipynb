{
 "cells": [
  {
   "cell_type": "code",
   "execution_count": 1,
   "id": "d7ed3ad2",
   "metadata": {},
   "outputs": [
    {
     "name": "stdout",
     "output_type": "stream",
     "text": [
      "<class 'list'>\n",
      "[1, 5, 3, 10, 12]\n"
     ]
    }
   ],
   "source": [
    "# list 表達多筆資料的資料型別\n",
    "# 清單,串列\n",
    "\n",
    "nums = [1, 5, 3, 10, 12]\n",
    "print(type(nums))\n",
    "print(nums)"
   ]
  },
  {
   "cell_type": "code",
   "execution_count": 2,
   "id": "3d9f65e3",
   "metadata": {},
   "outputs": [
    {
     "name": "stdout",
     "output_type": "stream",
     "text": [
      "Josh\n",
      "['Eric', 'Tony', 'Abby', 'Josh', 'Kate', 'Ben']\n"
     ]
    }
   ],
   "source": [
    "name_list = [\"Andy\", \"Tony\", \"Abby\", \"Josh\", \"Kate\", \"Benson\"]\n",
    "\n",
    "# 串列[索引]\n",
    "name = name_list[-3]\n",
    "print(name)\n",
    "# 串列[索引] = 新值\n",
    "name_list[0] = \"Eric\"\n",
    "name_list[-1] = \"Ben\"\n",
    "print(name_list)"
   ]
  },
  {
   "cell_type": "code",
   "execution_count": 5,
   "id": "cb14228b",
   "metadata": {},
   "outputs": [
    {
     "name": "stdout",
     "output_type": "stream",
     "text": [
      "[100, 99, 1, 2, 3, 4, 5, 6, 600, 1200]\n",
      "[99, 1, 2, 3, 4, 5, 6, 600]\n",
      "[600, 99, 6, 5, 4, 3, 2, 1]\n",
      "nums裡有8筆資料\n"
     ]
    }
   ],
   "source": [
    "nums = [99, 1, 2, 3, 4, 5]\n",
    "# 串列.append(新資料)\n",
    "nums.append(6)\n",
    "nums.append(600)\n",
    "nums.append(1200)\n",
    "# 串列.insert(索引, 新資料)\n",
    "nums.insert(0, 100)\n",
    "print(nums)\n",
    "\n",
    "# 串列.pop(索引) 移除指定索引的資料 預設最後一筆\n",
    "nums.pop(0)\n",
    "# 串列.remove(要移除的資料) 移除一個指定的資料\n",
    "nums.remove(1200)\n",
    "print(nums)\n",
    "# 串列.sort() 由小到大排序資料\n",
    "nums.sort(reverse=True)\n",
    "print(nums)\n",
    "# len(串列) => 串列裡的資料長度\n",
    "print(f\"nums裡有{len(nums)}筆資料\")"
   ]
  },
  {
   "cell_type": "code",
   "execution_count": 6,
   "id": "f81dc41c",
   "metadata": {},
   "outputs": [
    {
     "name": "stdout",
     "output_type": "stream",
     "text": [
      "idx: 6\n",
      "nums: [0, 0, 0, 0, 0, 0, 99, 0, 0, 0, 0, 0]\n"
     ]
    }
   ],
   "source": [
    "nums = [0, 0, 0, 0, 0, 0, 1, 0, 0, 0, 0, 0]\n",
    "# 把1更新為99\n",
    "idx = nums.index(1)\n",
    "print(\"idx:\", idx)\n",
    "# 串列[索引] = 新資料\n",
    "nums[idx] = 99\n",
    "print(\"nums:\", nums)"
   ]
  },
  {
   "cell_type": "code",
   "execution_count": null,
   "id": "4c9494af",
   "metadata": {},
   "outputs": [],
   "source": []
  }
 ],
 "metadata": {
  "interpreter": {
   "hash": "19d1d53a962d236aa061289c2ac16dc8e6d9648c89fe79f459ae9a3493bc67b4"
  },
  "kernelspec": {
   "display_name": "Python 3.9.7 ('base')",
   "language": "python",
   "name": "python3"
  },
  "language_info": {
   "codemirror_mode": {
    "name": "ipython",
    "version": 3
   },
   "file_extension": ".py",
   "mimetype": "text/x-python",
   "name": "python",
   "nbconvert_exporter": "python",
   "pygments_lexer": "ipython3",
   "version": "3.9.7"
  }
 },
 "nbformat": 4,
 "nbformat_minor": 5
}
