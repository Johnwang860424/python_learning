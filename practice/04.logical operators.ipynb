{
 "cells": [
  {
   "cell_type": "code",
   "execution_count": 1,
   "id": "00b1a858",
   "metadata": {},
   "outputs": [
    {
     "name": "stdout",
     "output_type": "stream",
     "text": [
      "True\n",
      "False\n",
      "True\n",
      "False\n"
     ]
    }
   ],
   "source": [
    "print(5 + 5 > 9)\n",
    "print(5 + 5 < 9)\n",
    "\n",
    "a = 3\n",
    "b = 7\n",
    "# a + b 等於 10 嗎?\n",
    "print(a + b == 10)\n",
    "# a + b 不等於 10 嗎?\n",
    "print(a + b != 10)"
   ]
  },
  {
   "cell_type": "code",
   "execution_count": 19,
   "id": "8a107b2a",
   "metadata": {},
   "outputs": [
    {
     "name": "stdout",
     "output_type": "stream",
     "text": [
      "True\n",
      "False\n",
      "False\n",
      "False\n",
      "True\n"
     ]
    }
   ],
   "source": [
    "# and 且\n",
    "print(True and True)\n",
    "print(False and True)\n",
    "print(True and False)\n",
    "print(False and False)\n",
    "\n",
    "x = 5\n",
    "# 是否在10~20之間\n",
    "print(x < 10 and x < 20)"
   ]
  },
  {
   "cell_type": "code",
   "execution_count": 20,
   "id": "9cac7747",
   "metadata": {},
   "outputs": [
    {
     "name": "stdout",
     "output_type": "stream",
     "text": [
      "True\n",
      "True\n",
      "True\n",
      "False\n",
      "True\n"
     ]
    }
   ],
   "source": [
    "# or 或\n",
    "print(True or True)\n",
    "print(True or False)\n",
    "print(False or True)\n",
    "print(False or False)\n",
    "x = 14\n",
    "# 判斷x是否不在10~20之間\n",
    "print(x > 10 or x < 20)"
   ]
  },
  {
   "cell_type": "code",
   "execution_count": 21,
   "id": "b5a48d28",
   "metadata": {},
   "outputs": [
    {
     "name": "stdout",
     "output_type": "stream",
     "text": [
      "False\n",
      "True\n"
     ]
    }
   ],
   "source": [
    "# not 否/反轉\n",
    "print(not True)\n",
    "print(not False)"
   ]
  },
  {
   "cell_type": "code",
   "execution_count": 1,
   "id": "8bbdb9a0",
   "metadata": {},
   "outputs": [
    {
     "name": "stdout",
     "output_type": "stream",
     "text": [
      "如果條件為正向\n",
      "我考了70分，及格了!\n",
      "我考了99分，A+\n",
      "4是偶數\n"
     ]
    }
   ],
   "source": [
    "# 布林值與條件判斷\n",
    "x = True\n",
    "if x:\n",
    "    print(\"如果條件為正向\")\n",
    "\n",
    "score = 70\n",
    "if score >= 60:\n",
    "    print(f\"我考了{score}分，及格了!\")\n",
    "else:\n",
    "    # 如果上述條件不是True\n",
    "    print(f\"我考了{score}分，不及格!\")\n",
    "\n",
    "score = 99\n",
    "gpa = \"\"\n",
    "if score >= 90:\n",
    "    gpa = \"A+\"\n",
    "elif score >= 80:\n",
    "    gpa = \"A\"\n",
    "elif score >= 70:\n",
    "    gpa = \"B\"\n",
    "elif score >= 60:\n",
    "    gpa = \"C\"\n",
    "else:\n",
    "    gpa = \"F\"\n",
    "print(f\"我考了{score}分，{gpa}\")\n",
    "\n",
    "x = 4\n",
    "# 取 x 除以 2 的餘數\n",
    "if x % 2 == 0:\n",
    "    print(f\"{x}是偶數\")\n",
    "else:\n",
    "    print(f\"{x}是奇數\")"
   ]
  },
  {
   "cell_type": "code",
   "execution_count": null,
   "id": "233f7115",
   "metadata": {},
   "outputs": [],
   "source": []
  }
 ],
 "metadata": {
  "interpreter": {
   "hash": "19d1d53a962d236aa061289c2ac16dc8e6d9648c89fe79f459ae9a3493bc67b4"
  },
  "kernelspec": {
   "display_name": "Python 3.9.7 ('base')",
   "language": "python",
   "name": "python3"
  },
  "language_info": {
   "codemirror_mode": {
    "name": "ipython",
    "version": 3
   },
   "file_extension": ".py",
   "mimetype": "text/x-python",
   "name": "python",
   "nbconvert_exporter": "python",
   "pygments_lexer": "ipython3",
   "version": "3.9.7"
  }
 },
 "nbformat": 4,
 "nbformat_minor": 5
}
